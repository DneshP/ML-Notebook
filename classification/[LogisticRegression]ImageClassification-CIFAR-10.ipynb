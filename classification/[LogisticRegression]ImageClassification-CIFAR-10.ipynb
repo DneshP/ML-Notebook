{
 "cells": [
  {
   "cell_type": "code",
   "execution_count": null,
   "id": "306135b3-6eae-4cc5-a1a7-b2126b3d4236",
   "metadata": {},
   "outputs": [],
   "source": [
    "import tensorflow as tf\n",
    "import numpy as np\n",
    "\n",
    "# Load the CIFAR-10 dataset\n",
    "(x_train, y_train), (x_test, y_test) = tf.keras.datasets.cifar10.load_data()\n",
    "\n",
    "# x_train and x_test contain the images, y_train and y_test contain the labels\n",
    "\n",
    "# Look at the shape\n",
    "print(\"x_train shape:\", x_train.shape)\n",
    "print(\"y_train shape:\", y_train.shape)\n",
    "print(\"x_test shape:\", x_test.shape)\n",
    "print(\"y_test shape:\", y_test.shape)"
   ]
  },
  {
   "cell_type": "code",
   "execution_count": null,
   "id": "56e33f26-afb0-4154-bd3b-86c2f0f238d7",
   "metadata": {},
   "outputs": [],
   "source": [
    "from sklearn.model_selection import train_test_split, cross_val_score, KFold, cross_val_predict\n",
    "from sklearn.linear_model import LogisticRegression\n",
    "\n",
    "# Split the training data into train and holdout sets\n",
    "X_train, X_holdout, Y_train, Y_holdout = train_test_split(x_train, y_train, test_size=0.2, random_state=42)\n",
    "\n",
    "X_train_flattened = np.array([image.flatten() for image in X_train])\n",
    "X_holdout_flattened = np.array([image.flatten() for image in X_holdout])\n",
    "Y_train_flat = Y_train.ravel()\n",
    "Y_holdout_flat = Y_holdout.ravel()\n",
    "\n",
    "# Normalise the data\n",
    "X_train_flattened = X_train_flattened / 255\n",
    "X_holdout_flattened = X_holdout_flattened / 255\n",
    "\n",
    "# Shape of the normalised data\n",
    "print('X_train shape:', X_train_flattened.shape)\n",
    "print('Y_train shape:', Y_train_flat.shape)\n",
    "print('X_holdout shape:', X_holdout_flattened.shape)\n",
    "print('Y_holdout shape:', Y_holdout_flat.shape)"
   ]
  },
  {
   "cell_type": "code",
   "execution_count": null,
   "id": "4a20a64a-eec0-4975-b2f0-5c8668190549",
   "metadata": {},
   "outputs": [],
   "source": [
    "# Linear Discriminant Analysis\n",
    "from sklearn.model_selection import cross_val_score, KFold, cross_val_predict\n",
    "from sklearn.discriminant_analysis import LinearDiscriminantAnalysis\n",
    "from sklearn.metrics import recall_score\n",
    "\n",
    "lda = LinearDiscriminantAnalysis()\n",
    "\n",
    "lda.fit(X_train_flattened, Y_train_flat)"
   ]
  },
  {
   "cell_type": "code",
   "execution_count": null,
   "id": "6b9a774f-58c9-4c9b-bb04-d26069b1943c",
   "metadata": {},
   "outputs": [],
   "source": [
    "# Evaluation\n",
    "\n",
    "# KFold cross validation\n",
    "cv = KFold(n_splits=5, shuffle=True, random_state=42)\n",
    "\n",
    "# Perform cross-validation within the training set\n",
    "training_scores = cross_val_score(lda, X_train_flattened, Y_train_flat, cv=cv, scoring='accuracy')\n",
    "\n",
    "mean_score = training_scores.mean()\n",
    "std_score = training_scores.std()\n",
    "\n",
    "# Use cross_val_predict to obtain predictions for each sample\n",
    "predictions = cross_val_predict(lda, X_train_flattened, Y_train_flat, cv=cv, method='predict')\n",
    "\n",
    "recall = recall_score(Y_train_flat, predictions, average='macro')\n",
    "\n",
    "print('LDA training scores:', training_scores)\n",
    "print('Predictions:', predictions)\n",
    "print('Recall:', recall)\n",
    "print('STD', std_score)"
   ]
  },
  {
   "cell_type": "code",
   "execution_count": null,
   "id": "0a1623dd-908e-46a3-b357-2b9a469dfcaf",
   "metadata": {},
   "outputs": [],
   "source": [
    "# Using the LDA to tranform the data for feature reduction\n",
    "\n",
    "# Applying Transform\n",
    "X_train_reduced = lda.transform(X_train_flattened)\n",
    "print(X_train_reduced)\n",
    "\n",
    "# shape of the reduced data\n",
    "print(X_train_reduced.shape)"
   ]
  },
  {
   "cell_type": "code",
   "execution_count": null,
   "id": "0ef216b9-fea7-4277-b0d4-03ad48176368",
   "metadata": {},
   "outputs": [],
   "source": [
    "# Logistic Regression\n",
    "from sklearn.linear_model import LogisticRegression\n",
    "\n",
    "X_train = X_train_reduced.copy()\n",
    "y_train = Y_train_flat.copy()\n",
    "\n",
    "# Choosing the model\n",
    "lrModel = LogisticRegression(max_iter=100)\n",
    "\n",
    "# Fit the model on the entire training set\n",
    "lrModel.fit(X_train, y_train)"
   ]
  },
  {
   "cell_type": "code",
   "execution_count": null,
   "id": "7658e93b-98f3-4f3a-bd6d-f49bca3e91fc",
   "metadata": {},
   "outputs": [],
   "source": [
    "# Evaluation\n",
    "\n",
    "from sklearn.model_selection import cross_val_score, KFold, cross_val_predict\n",
    "from sklearn.metrics import precision_score, recall_score, f1_score\n",
    "\n",
    "# Cross-validation method within the training set\n",
    "cv = KFold(n_splits=5, shuffle=True, random_state=42)\n",
    "\n",
    "# Perform cross-validation within the training set\n",
    "training_scores = cross_val_score(lrModel, X_train, y_train, cv=cv, scoring='accuracy')\n",
    "\n",
    "# You can also calculate the mean and standard deviation of the scores\n",
    "mean_score = training_scores.mean()\n",
    "std_score = training_scores.std()\n",
    "\n",
    "# Use cross_val_predict to obtain predictions for each sample\n",
    "predictions = cross_val_predict(lrModel, X_train, y_train, cv=cv, method='predict')\n",
    "\n",
    "# Recall\n",
    "recall = recall_score(Y_train_flat, predictions, average='macro')\n",
    "\n",
    "# Precision\n",
    "precision = precision_score(Y_train_flat, predictions, average='macro')\n",
    "\n",
    "# F1 score\n",
    "f1 = f1_score(Y_train_flat, predictions, average='macro')\n",
    "\n",
    "\n",
    "print('training scores:', training_scores)\n",
    "print('prediction scores:', predictions)\n",
    "print(\"Precision:\", precision)\n",
    "print('Recall:', recall)\n",
    "print(\"F1 Score:\", f1)"
   ]
  }
 ],
 "metadata": {
  "kernelspec": {
   "display_name": "Python 3 (ipykernel)",
   "language": "python",
   "name": "python3"
  },
  "language_info": {
   "codemirror_mode": {
    "name": "ipython",
    "version": 3
   },
   "file_extension": ".py",
   "mimetype": "text/x-python",
   "name": "python",
   "nbconvert_exporter": "python",
   "pygments_lexer": "ipython3",
   "version": "3.10.13"
  }
 },
 "nbformat": 4,
 "nbformat_minor": 5
}
