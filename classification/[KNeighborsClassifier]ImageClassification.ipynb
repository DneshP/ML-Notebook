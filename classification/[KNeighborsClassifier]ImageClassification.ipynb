{
  "cells": [
    {
      "cell_type": "markdown",
      "metadata": {
        "id": "vnEw7x7sAR99"
      },
      "source": [
        "In this machine learning project, the MNIST dataset served as the foundation for an image classification task. The dataset was enriched by applying data augmentation techniques, such as shifting pixel values within each image.\n",
        "\n",
        "A well-structured pipeline was established to ensure efficient data preprocessing and model optimization. Standard scaling was employed as part of data preprocessing to standardize and normalize the features, ensuring that the model could perform optimally.\n",
        "\n",
        "The KNeighborsClassifier / K-Nearest Neighbors (KNN) classifier was chosen as the classification model, offering an intuitive approach to the problem. The key challenge lay in finding the best hyperparameters for the KNN model to achieve peak performance. To tackle this, GridSearchCV, a powerful hyperparameter tuning tool, was employed. It systematically explored various combinations of hyperparameters to identify the optimal settings for the KNN classifier.\n",
        "\n",
        "**Training Scores**:\n",
        "\n",
        "Accuracy scores: [0.98052851 0.96870654 0.96314325 0.97494781 0.98051496]\n",
        "Precision scores: [0.98071818 0.96922823 0.96343154 0.97508987 0.98064474]\n",
        "Recall scores: [0.98052851 0.96870654 0.96314325 0.97494781 0.98051496]\n",
        "F1 scores: [0.98054214 0.96862043 0.96293557 0.97481804 0.9804537]\n",
        "Furthermore, the model's performance has been evaluated on the holdout set:\n",
        "\n",
        "**Prediction Scores on Holdout Set**:\n",
        "\n",
        "Accuracy on holdout set: 0.9816360601001669\n",
        "Precision on holdout set: 0.9817826685295102\n",
        "Recall on holdout set: 0.9816360601001669\n",
        "F1 score on holdout set: 0.9815563633379836"
      ]
    },
    {
      "cell_type": "code",
      "execution_count": 2,
      "metadata": {
        "id": "Q021OQItAGTJ"
      },
      "outputs": [],
      "source": [
        "# Load the dataset\n",
        "from sklearn.datasets import load_digits\n",
        "\n",
        "digits = load_digits()"
      ]
    },
    {
      "cell_type": "code",
      "execution_count": 3,
      "metadata": {
        "colab": {
          "base_uri": "https://localhost:8080/"
        },
        "id": "NP5n8uBXCEL4",
        "outputId": "bd662179-643a-45e0-e8da-f82640e14f07"
      },
      "outputs": [
        {
          "name": "stdout",
          "output_type": "stream",
          "text": [
            "digits shape: (1797, 64)\n",
            "target: [0 1 2 ... 8 9 8]\n",
            "image shape: (1797, 8, 8)\n"
          ]
        }
      ],
      "source": [
        "# Understand the data\n",
        "print('digits shape:', digits.data.shape)\n",
        "print('target:', digits.target)\n",
        "print('image shape:', digits.images.shape)"
      ]
    },
    {
      "cell_type": "code",
      "execution_count": 4,
      "metadata": {
        "colab": {
          "base_uri": "https://localhost:8080/",
          "height": 457
        },
        "id": "cIdos6DxDp9s",
        "outputId": "d1a7ac18-900d-4d1a-d02b-eddfb776c615"
      },
      "outputs": [
        {
          "data": {
            "image/png": "[encoded data removed]",
            "text/plain": [
              "<Figure size 640x480 with 4 Axes>"
            ]
          },
          "metadata": {},
          "output_type": "display_data"
        }
      ],
      "source": [
        "# Shift the image\n",
        "import matplotlib.pyplot as plt\n",
        "import numpy as np\n",
        "from scipy.ndimage import shift\n",
        "\n",
        "label = digits.target[0]\n",
        "firstImage = digits.data[0]\n",
        "rawImage = digits.images[0]\n",
        "\n",
        "reshapedImage = firstImage.reshape(8,8)\n",
        "shifted_right = shift(reshapedImage, shift=(0, 1))\n",
        "shifted_left = shift(reshapedImage, shift=(0, -1))\n",
        "shifted_top = shift(reshapedImage, shift=(-1, 0))\n",
        "shifted_down = shift(reshapedImage, shift=(1, 0))\n",
        "\n",
        "fig, axs = plt.subplots(2, 2)\n",
        "cmap = 'gray'\n",
        "\n",
        "# Plot the shifted images\n",
        "axs[0, 0].set_title('Shifted Right')\n",
        "axs[0, 0].matshow(shifted_right, cmap=cmap)\n",
        "\n",
        "axs[0, 1].set_title('Shifted Left')\n",
        "axs[0, 1].matshow(shifted_left, cmap=cmap)\n",
        "\n",
        "axs[1, 0].set_title('Shifted Top')\n",
        "axs[1, 0].matshow(shifted_top, cmap=cmap)\n",
        "\n",
        "axs[1, 1].set_title('Shifted Down')\n",
        "axs[1, 1].matshow(shifted_down, cmap=cmap)\n",
        "\n",
        "plt.show()"
      ]
    },
    {
      "cell_type": "code",
      "execution_count": 21,
      "metadata": {
        "colab": {
          "base_uri": "https://localhost:8080/"
        },
        "id": "VjUbTsznU2D2",
        "outputId": "ba37d4e6-d1f6-47ad-8b76-4ec0488dc9a5"
      },
      "outputs": [
        {
          "name": "stdout",
          "output_type": "stream",
          "text": [
            "data shape: (8985, 64)\n",
            "label shape: (8985,)\n"
          ]
        }
      ],
      "source": [
        "# data augmentation\n",
        "from scipy.ndimage import shift\n",
        "\n",
        "# Define the shifts\n",
        "shifts = [(0, 1), (0, -1), (-1, 0), (1, 0)]\n",
        "\n",
        "# Lists to store the new data and labels\n",
        "data = []\n",
        "labels = []\n",
        "\n",
        "# Iterate through the original data and create shifted images\n",
        "for image, label in zip(digits.data, digits.target):\n",
        "    reshaped_image = image.reshape(8, 8)\n",
        "\n",
        "    # Add the original image\n",
        "    data.append(image)\n",
        "    labels.append(label)\n",
        "\n",
        "    # Create and add the shifted images\n",
        "    for shift_values in shifts:\n",
        "        shifted_image = shift(reshaped_image, shift=shift_values)\n",
        "        data.append(shifted_image.ravel())\n",
        "        labels.append(label)\n",
        "\n",
        "# Convert the lists to NumPy arrays\n",
        "data = np.array(data)\n",
        "labels = np.array(labels)\n",
        "\n",
        "print('data shape:', data.shape)\n",
        "print('label shape:', labels.shape)"
      ]
    },
    {
      "cell_type": "code",
      "execution_count": 6,
      "metadata": {
        "colab": {
          "base_uri": "https://localhost:8080/"
        },
        "id": "p11kElFyW1be",
        "outputId": "00963d1c-d2f5-4835-a907-db432b10618f"
      },
      "outputs": [
        {
          "name": "stdout",
          "output_type": "stream",
          "text": [
            "Number of classes: 10\n",
            "Number of samples for each class:\n",
            "Class 0: 178 samples\n",
            "Class 1: 182 samples\n",
            "Class 2: 177 samples\n",
            "Class 3: 183 samples\n",
            "Class 4: 181 samples\n",
            "Class 5: 182 samples\n",
            "Class 6: 181 samples\n",
            "Class 7: 179 samples\n",
            "Class 8: 174 samples\n",
            "Class 9: 180 samples\n"
          ]
        }
      ],
      "source": [
        "# dataset class description\n",
        "unique_labels = np.unique(digits.target)\n",
        "\n",
        "# Count the number of samples for each class\n",
        "class_counts = {label: np.sum(digits.target == label) for label in unique_labels}\n",
        "\n",
        "# Print the number of classes and samples for each class\n",
        "print(\"Number of classes:\", len(unique_labels))\n",
        "print(\"Number of samples for each class:\")\n",
        "for label, count in class_counts.items():\n",
        "    print(f\"Class {label}: {count} samples\")"
      ]
    },
    {
      "cell_type": "code",
      "execution_count": 8,
      "metadata": {
        "colab": {
          "base_uri": "https://localhost:8080/"
        },
        "id": "X5RSo3RKZDa9",
        "outputId": "030e2243-bcfe-4e62-912e-a59545e1840a"
      },
      "outputs": [
        {
          "name": "stdout",
          "output_type": "stream",
          "text": [
            "X_train shape: (7188, 64)\n",
            "Y_train shape: (7188,)\n",
            "X_holdout shape: (1797, 64)\n",
            "Y_holdout shape: (1797,)\n"
          ]
        }
      ],
      "source": [
        "# Splitting the dataset\n",
        "from sklearn.model_selection import StratifiedShuffleSplit\n",
        "\n",
        "# 80/20 (train/test)\n",
        "stratified_split = StratifiedShuffleSplit(n_splits=7, train_size=0.8, random_state=42)\n",
        "\n",
        "for train_index, holdout_index in stratified_split.split(data, labels):\n",
        "    X_train, X_holdout = data[train_index], data[holdout_index]\n",
        "    Y_train, Y_holdout = labels[train_index], labels[holdout_index]\n",
        "\n",
        "print('X_train shape:', X_train.shape)\n",
        "print('Y_train shape:', Y_train.shape)\n",
        "print('X_holdout shape:', X_holdout.shape)\n",
        "print('Y_holdout shape:', Y_holdout.shape)"
      ]
    },
    {
      "cell_type": "code",
      "execution_count": 20,
      "metadata": {
        "colab": {
          "base_uri": "https://localhost:8080/"
        },
        "id": "AGkOQmIebenS",
        "outputId": "bd9327ef-52a8-4ce6-afc6-ee845dc20de5"
      },
      "outputs": [
        {
          "name": "stdout",
          "output_type": "stream",
          "text": [
            "Accuracy scores: [0.98052851 0.96870654 0.96314325 0.97494781 0.98051496]\n",
            "Precision scores: [0.98071818 0.96922823 0.96343154 0.97508987 0.98064474]\n",
            "Recall scores: [0.98052851 0.96870654 0.96314325 0.97494781 0.98051496]\n",
            "F1 scores: [0.98054214 0.96862043 0.96293557 0.97481804 0.9804537 ]\n"
          ]
        }
      ],
      "source": [
        "# Pipeline\n",
        "from sklearn.preprocessing import StandardScaler\n",
        "from sklearn.pipeline import Pipeline\n",
        "from sklearn.model_selection import GridSearchCV\n",
        "from sklearn.neighbors import KNeighborsClassifier\n",
        "from sklearn.model_selection import cross_val_score, KFold, cross_val_predict, cross_validate\n",
        "from sklearn.metrics import make_scorer, accuracy_score, precision_score, recall_score, f1_score\n",
        "\n",
        "\n",
        "grid_parameters = {\n",
        "    'classifier__n_neighbors': list(range(3, 11)),\n",
        "    'classifier__weights': ['uniform', 'distance'],\n",
        "    'classifier__leaf_size': [10, 20, 30, 40],\n",
        "    'classifier__p': [1, 2]\n",
        "}\n",
        "\n",
        "# Scaler\n",
        "scaler = StandardScaler()\n",
        "\n",
        "# Classifier\n",
        "classifier = KNeighborsClassifier()\n",
        "\n",
        "# Pipeline steps\n",
        "pipeline_steps = [\n",
        "    ('scaler', scaler),\n",
        "    ('classifier', classifier)\n",
        "]\n",
        "\n",
        "pipeline = Pipeline(pipeline_steps)\n",
        "\n",
        "# Validation metric to influence the search\n",
        "cross_validation = cross_val_score(pipeline, X_train, Y_train, cv=5, scoring='accuracy')\n",
        "\n",
        "# Model\n",
        "model = GridSearchCV(estimator=pipeline, param_grid=grid_parameters, cv=5, scoring='accuracy', verbose=2)\n",
        "\n",
        "# Fit the model\n",
        "model.fit(X_train, Y_train)\n",
        "\n",
        "# Scoring\n",
        "scoring = {\n",
        "    'accuracy': make_scorer(accuracy_score),\n",
        "    'precision': make_scorer(precision_score, average='weighted'),\n",
        "    'recall': make_scorer(recall_score, average='weighted'),\n",
        "    'f1': make_scorer(f1_score, average='weighted')\n",
        "}\n",
        "results = cross_validate(pipeline, X_train, Y_train, cv=5, scoring=scoring, return_train_score=True)\n",
        "\n",
        "accuracy_scores = results['test_accuracy']\n",
        "precision_scores = results['test_precision']\n",
        "recall_scores = results['test_recall']\n",
        "f1_scores = results['test_f1']\n",
        "\n",
        "\n",
        "print(f'Accuracy scores: {accuracy_scores}')\n",
        "print(f'Precision scores: {precision_scores}')\n",
        "print(f'Recall scores: {recall_scores}')\n",
        "print(f'F1 scores: {f1_scores}')"
      ]
    },
    {
      "cell_type": "code",
      "execution_count": 17,
      "metadata": {
        "colab": {
          "base_uri": "https://localhost:8080/"
        },
        "id": "UMOaSAymqYoi",
        "outputId": "7021029f-f545-4390-94cb-1c1859163068"
      },
      "outputs": [
        {
          "name": "stdout",
          "output_type": "stream",
          "text": [
            "Best Hyperparameters: {'classifier__leaf_size': 10, 'classifier__n_neighbors': 4, 'classifier__p': 1, 'classifier__weights': 'distance'}\n",
            "Accuracy on holdout set: 0.9816360601001669\n",
            "Precision on holdout set: 0.9817826685295102\n",
            "Recall on holdout set: 0.9816360601001669\n",
            "F1 score on holdout set: 0.9815563633379836\n"
          ]
        }
      ],
      "source": [
        "best_hyperparameters = model.best_params_\n",
        "print(\"Best Hyperparameters:\", best_hyperparameters)\n",
        "\n",
        "from sklearn.metrics import accuracy_score, precision_score, recall_score, f1_score\n",
        "\n",
        "# Use the final model to make predictions on the holdout set\n",
        "holdout_predictions = model.predict(X_holdout)\n",
        "\n",
        "# Calculate performance metrics\n",
        "accuracy = accuracy_score(Y_holdout, holdout_predictions)\n",
        "precision = precision_score(Y_holdout, holdout_predictions, average='weighted')\n",
        "recall = recall_score(Y_holdout, holdout_predictions, average='weighted')\n",
        "f1 = f1_score(Y_holdout, holdout_predictions, average='weighted')\n",
        "\n",
        "# Print the performance metrics\n",
        "print(f'Accuracy on holdout set: {accuracy}')\n",
        "print(f'Precision on holdout set: {precision}')\n",
        "print(f'Recall on holdout set: {recall}')\n",
        "print(f'F1 score on holdout set: {f1}')\n"
      ]
    }
  ],
  "metadata": {
    "colab": {
      "provenance": []
    },
    "kernelspec": {
      "display_name": "Python 3",
      "name": "python3"
    },
    "language_info": {
      "name": "python"
    }
  },
  "nbformat": 4,
  "nbformat_minor": 0
}
